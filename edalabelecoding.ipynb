{
 "cells": [
  {
   "cell_type": "code",
   "execution_count": null,
   "id": "057e94a4",
   "metadata": {},
   "outputs": [],
   "source": [
    "#Topics to cover for today\n",
    "#label Encoder\n",
    "#one Hot Encoder (using pd.get_dummies)\n",
    "#Concatenate\n",
    "#Append"
   ]
  },
  {
   "cell_type": "code",
   "execution_count": 2,
   "id": "861baa55",
   "metadata": {},
   "outputs": [],
   "source": [
    "import pandas as pd\n",
    "import numpy as np\n",
    "from sklearn.preprocessing import LabelEncoder"
   ]
  },
  {
   "cell_type": "code",
   "execution_count": 3,
   "id": "ea96cdeb",
   "metadata": {},
   "outputs": [
    {
     "data": {
      "text/html": [
       "<div>\n",
       "<style scoped>\n",
       "    .dataframe tbody tr th:only-of-type {\n",
       "        vertical-align: middle;\n",
       "    }\n",
       "\n",
       "    .dataframe tbody tr th {\n",
       "        vertical-align: top;\n",
       "    }\n",
       "\n",
       "    .dataframe thead th {\n",
       "        text-align: right;\n",
       "    }\n",
       "</style>\n",
       "<table border=\"1\" class=\"dataframe\">\n",
       "  <thead>\n",
       "    <tr style=\"text-align: right;\">\n",
       "      <th></th>\n",
       "      <th>CustomerID</th>\n",
       "      <th>Genre</th>\n",
       "      <th>Age</th>\n",
       "      <th>Annual Income (k$)</th>\n",
       "      <th>Spending Score (1-100)</th>\n",
       "    </tr>\n",
       "  </thead>\n",
       "  <tbody>\n",
       "    <tr>\n",
       "      <th>0</th>\n",
       "      <td>1</td>\n",
       "      <td>Male</td>\n",
       "      <td>19</td>\n",
       "      <td>15</td>\n",
       "      <td>39</td>\n",
       "    </tr>\n",
       "    <tr>\n",
       "      <th>1</th>\n",
       "      <td>2</td>\n",
       "      <td>Male</td>\n",
       "      <td>21</td>\n",
       "      <td>15</td>\n",
       "      <td>81</td>\n",
       "    </tr>\n",
       "    <tr>\n",
       "      <th>2</th>\n",
       "      <td>3</td>\n",
       "      <td>Female</td>\n",
       "      <td>20</td>\n",
       "      <td>16</td>\n",
       "      <td>6</td>\n",
       "    </tr>\n",
       "    <tr>\n",
       "      <th>3</th>\n",
       "      <td>4</td>\n",
       "      <td>Female</td>\n",
       "      <td>23</td>\n",
       "      <td>16</td>\n",
       "      <td>77</td>\n",
       "    </tr>\n",
       "    <tr>\n",
       "      <th>4</th>\n",
       "      <td>5</td>\n",
       "      <td>Female</td>\n",
       "      <td>31</td>\n",
       "      <td>17</td>\n",
       "      <td>40</td>\n",
       "    </tr>\n",
       "  </tbody>\n",
       "</table>\n",
       "</div>"
      ],
      "text/plain": [
       "   CustomerID   Genre  Age  Annual Income (k$)  Spending Score (1-100)\n",
       "0           1    Male   19                  15                      39\n",
       "1           2    Male   21                  15                      81\n",
       "2           3  Female   20                  16                       6\n",
       "3           4  Female   23                  16                      77\n",
       "4           5  Female   31                  17                      40"
      ]
     },
     "execution_count": 3,
     "metadata": {},
     "output_type": "execute_result"
    }
   ],
   "source": [
    "df=pd.read_csv('Mall_Customers_BP.csv')\n",
    "df.head()"
   ]
  },
  {
   "cell_type": "code",
   "execution_count": 4,
   "id": "c3bd3e8e",
   "metadata": {},
   "outputs": [
    {
     "data": {
      "text/plain": [
       "CustomerID                0\n",
       "Genre                     0\n",
       "Age                       0\n",
       "Annual Income (k$)        0\n",
       "Spending Score (1-100)    0\n",
       "dtype: int64"
      ]
     },
     "execution_count": 4,
     "metadata": {},
     "output_type": "execute_result"
    }
   ],
   "source": [
    "#checking for null value\n",
    "df.isnull().sum()"
   ]
  },
  {
   "cell_type": "code",
   "execution_count": 6,
   "id": "69aab537",
   "metadata": {},
   "outputs": [
    {
     "data": {
      "text/html": [
       "<div>\n",
       "<style scoped>\n",
       "    .dataframe tbody tr th:only-of-type {\n",
       "        vertical-align: middle;\n",
       "    }\n",
       "\n",
       "    .dataframe tbody tr th {\n",
       "        vertical-align: top;\n",
       "    }\n",
       "\n",
       "    .dataframe thead th {\n",
       "        text-align: right;\n",
       "    }\n",
       "</style>\n",
       "<table border=\"1\" class=\"dataframe\">\n",
       "  <thead>\n",
       "    <tr style=\"text-align: right;\">\n",
       "      <th></th>\n",
       "      <th>CustomerID</th>\n",
       "      <th>Genre</th>\n",
       "      <th>Age</th>\n",
       "      <th>Annual Income (k$)</th>\n",
       "      <th>Spending Score (1-100)</th>\n",
       "    </tr>\n",
       "  </thead>\n",
       "  <tbody>\n",
       "    <tr>\n",
       "      <th>0</th>\n",
       "      <td>1</td>\n",
       "      <td>1</td>\n",
       "      <td>19</td>\n",
       "      <td>15</td>\n",
       "      <td>39</td>\n",
       "    </tr>\n",
       "    <tr>\n",
       "      <th>1</th>\n",
       "      <td>2</td>\n",
       "      <td>1</td>\n",
       "      <td>21</td>\n",
       "      <td>15</td>\n",
       "      <td>81</td>\n",
       "    </tr>\n",
       "    <tr>\n",
       "      <th>2</th>\n",
       "      <td>3</td>\n",
       "      <td>0</td>\n",
       "      <td>20</td>\n",
       "      <td>16</td>\n",
       "      <td>6</td>\n",
       "    </tr>\n",
       "    <tr>\n",
       "      <th>3</th>\n",
       "      <td>4</td>\n",
       "      <td>0</td>\n",
       "      <td>23</td>\n",
       "      <td>16</td>\n",
       "      <td>77</td>\n",
       "    </tr>\n",
       "    <tr>\n",
       "      <th>4</th>\n",
       "      <td>5</td>\n",
       "      <td>0</td>\n",
       "      <td>31</td>\n",
       "      <td>17</td>\n",
       "      <td>40</td>\n",
       "    </tr>\n",
       "  </tbody>\n",
       "</table>\n",
       "</div>"
      ],
      "text/plain": [
       "   CustomerID  Genre  Age  Annual Income (k$)  Spending Score (1-100)\n",
       "0           1      1   19                  15                      39\n",
       "1           2      1   21                  15                      81\n",
       "2           3      0   20                  16                       6\n",
       "3           4      0   23                  16                      77\n",
       "4           5      0   31                  17                      40"
      ]
     },
     "execution_count": 6,
     "metadata": {},
     "output_type": "execute_result"
    }
   ],
   "source": [
    "#applying label encoding techniques\n",
    "encoder =LabelEncoder()\n",
    "df['Genre']= encoder.fit_transform(df['Genre'])  #labeling according to alphabatical\n",
    "df.head()"
   ]
  },
  {
   "cell_type": "code",
   "execution_count": 7,
   "id": "bf96bad9",
   "metadata": {},
   "outputs": [
    {
     "data": {
      "text/html": [
       "<div>\n",
       "<style scoped>\n",
       "    .dataframe tbody tr th:only-of-type {\n",
       "        vertical-align: middle;\n",
       "    }\n",
       "\n",
       "    .dataframe tbody tr th {\n",
       "        vertical-align: top;\n",
       "    }\n",
       "\n",
       "    .dataframe thead th {\n",
       "        text-align: right;\n",
       "    }\n",
       "</style>\n",
       "<table border=\"1\" class=\"dataframe\">\n",
       "  <thead>\n",
       "    <tr style=\"text-align: right;\">\n",
       "      <th></th>\n",
       "      <th>CustomerID</th>\n",
       "      <th>Genre</th>\n",
       "      <th>Age</th>\n",
       "      <th>Annual Income (k$)</th>\n",
       "      <th>Spending Score (1-100)</th>\n",
       "    </tr>\n",
       "  </thead>\n",
       "  <tbody>\n",
       "    <tr>\n",
       "      <th>0</th>\n",
       "      <td>1</td>\n",
       "      <td>Male</td>\n",
       "      <td>19</td>\n",
       "      <td>15</td>\n",
       "      <td>39</td>\n",
       "    </tr>\n",
       "    <tr>\n",
       "      <th>1</th>\n",
       "      <td>2</td>\n",
       "      <td>Male</td>\n",
       "      <td>21</td>\n",
       "      <td>15</td>\n",
       "      <td>81</td>\n",
       "    </tr>\n",
       "    <tr>\n",
       "      <th>2</th>\n",
       "      <td>3</td>\n",
       "      <td>Female</td>\n",
       "      <td>20</td>\n",
       "      <td>16</td>\n",
       "      <td>6</td>\n",
       "    </tr>\n",
       "    <tr>\n",
       "      <th>3</th>\n",
       "      <td>4</td>\n",
       "      <td>Female</td>\n",
       "      <td>23</td>\n",
       "      <td>16</td>\n",
       "      <td>77</td>\n",
       "    </tr>\n",
       "    <tr>\n",
       "      <th>4</th>\n",
       "      <td>5</td>\n",
       "      <td>Female</td>\n",
       "      <td>31</td>\n",
       "      <td>17</td>\n",
       "      <td>40</td>\n",
       "    </tr>\n",
       "  </tbody>\n",
       "</table>\n",
       "</div>"
      ],
      "text/plain": [
       "   CustomerID   Genre  Age  Annual Income (k$)  Spending Score (1-100)\n",
       "0           1    Male   19                  15                      39\n",
       "1           2    Male   21                  15                      81\n",
       "2           3  Female   20                  16                       6\n",
       "3           4  Female   23                  16                      77\n",
       "4           5  Female   31                  17                      40"
      ]
     },
     "execution_count": 7,
     "metadata": {},
     "output_type": "execute_result"
    }
   ],
   "source": [
    "df=pd.read_csv('Mall_Customers_BP.csv')\n",
    "df.head()"
   ]
  },
  {
   "cell_type": "code",
   "execution_count": 8,
   "id": "a16bbd2f",
   "metadata": {},
   "outputs": [
    {
     "name": "stdout",
     "output_type": "stream",
     "text": [
      "     Female  Male\n",
      "0         0     1\n",
      "1         0     1\n",
      "2         1     0\n",
      "3         1     0\n",
      "4         1     0\n",
      "..      ...   ...\n",
      "195       1     0\n",
      "196       1     0\n",
      "197       0     1\n",
      "198       0     1\n",
      "199       0     1\n",
      "\n",
      "[200 rows x 2 columns]\n"
     ]
    }
   ],
   "source": [
    "#One Hot Encoder with pd.get_dummies()\n",
    "dummy_gender =pd.get_dummies(df['Genre'])\n",
    "print(dummy_gender)"
   ]
  },
  {
   "cell_type": "code",
   "execution_count": 9,
   "id": "053de35b",
   "metadata": {},
   "outputs": [
    {
     "data": {
      "text/html": [
       "<div>\n",
       "<style scoped>\n",
       "    .dataframe tbody tr th:only-of-type {\n",
       "        vertical-align: middle;\n",
       "    }\n",
       "\n",
       "    .dataframe tbody tr th {\n",
       "        vertical-align: top;\n",
       "    }\n",
       "\n",
       "    .dataframe thead th {\n",
       "        text-align: right;\n",
       "    }\n",
       "</style>\n",
       "<table border=\"1\" class=\"dataframe\">\n",
       "  <thead>\n",
       "    <tr style=\"text-align: right;\">\n",
       "      <th></th>\n",
       "      <th>CustomerID</th>\n",
       "      <th>Genre</th>\n",
       "      <th>Age</th>\n",
       "      <th>Annual Income (k$)</th>\n",
       "      <th>Spending Score (1-100)</th>\n",
       "      <th>Female</th>\n",
       "      <th>Male</th>\n",
       "    </tr>\n",
       "  </thead>\n",
       "  <tbody>\n",
       "    <tr>\n",
       "      <th>0</th>\n",
       "      <td>1</td>\n",
       "      <td>Male</td>\n",
       "      <td>19</td>\n",
       "      <td>15</td>\n",
       "      <td>39</td>\n",
       "      <td>0</td>\n",
       "      <td>1</td>\n",
       "    </tr>\n",
       "    <tr>\n",
       "      <th>1</th>\n",
       "      <td>2</td>\n",
       "      <td>Male</td>\n",
       "      <td>21</td>\n",
       "      <td>15</td>\n",
       "      <td>81</td>\n",
       "      <td>0</td>\n",
       "      <td>1</td>\n",
       "    </tr>\n",
       "    <tr>\n",
       "      <th>2</th>\n",
       "      <td>3</td>\n",
       "      <td>Female</td>\n",
       "      <td>20</td>\n",
       "      <td>16</td>\n",
       "      <td>6</td>\n",
       "      <td>1</td>\n",
       "      <td>0</td>\n",
       "    </tr>\n",
       "    <tr>\n",
       "      <th>3</th>\n",
       "      <td>4</td>\n",
       "      <td>Female</td>\n",
       "      <td>23</td>\n",
       "      <td>16</td>\n",
       "      <td>77</td>\n",
       "      <td>1</td>\n",
       "      <td>0</td>\n",
       "    </tr>\n",
       "    <tr>\n",
       "      <th>4</th>\n",
       "      <td>5</td>\n",
       "      <td>Female</td>\n",
       "      <td>31</td>\n",
       "      <td>17</td>\n",
       "      <td>40</td>\n",
       "      <td>1</td>\n",
       "      <td>0</td>\n",
       "    </tr>\n",
       "  </tbody>\n",
       "</table>\n",
       "</div>"
      ],
      "text/plain": [
       "   CustomerID   Genre  Age  Annual Income (k$)  Spending Score (1-100)  \\\n",
       "0           1    Male   19                  15                      39   \n",
       "1           2    Male   21                  15                      81   \n",
       "2           3  Female   20                  16                       6   \n",
       "3           4  Female   23                  16                      77   \n",
       "4           5  Female   31                  17                      40   \n",
       "\n",
       "   Female  Male  \n",
       "0       0     1  \n",
       "1       0     1  \n",
       "2       1     0  \n",
       "3       1     0  \n",
       "4       1     0  "
      ]
     },
     "execution_count": 9,
     "metadata": {},
     "output_type": "execute_result"
    }
   ],
   "source": [
    "#merginf the two dataframes\n",
    "df=pd.merge(\n",
    "left=df,\n",
    "right=dummy_gender,\n",
    "left_index=True,\n",
    "right_index= True)\n",
    "df.head()"
   ]
  },
  {
   "cell_type": "code",
   "execution_count": 12,
   "id": "b8d73167",
   "metadata": {},
   "outputs": [],
   "source": [
    "# df.drop(['Genre'])\n",
    "# df\n"
   ]
  },
  {
   "cell_type": "code",
   "execution_count": 15,
   "id": "7bcf598e",
   "metadata": {},
   "outputs": [
    {
     "name": "stdout",
     "output_type": "stream",
     "text": [
      "     Name  Age Address Qualification\n",
      "0  pranav   27  Nagpur            mE\n",
      "1     Sai   28  Kanpur           MBA\n",
      "2   Niraj   29  Satara           MSC\n",
      "3   Vijay   30    Pune           BCA \n",
      "\n",
      "        Name  Age Address Qualification\n",
      "4     Rahul   22  Mumbai            BE\n",
      "5    Ayushi   23   Delhi            BA\n",
      "6  Sharvari   24  Wardha          BCOM\n",
      "7    Dhiraj   25   Vizag           BCA\n"
     ]
    }
   ],
   "source": [
    "#creating the dataset\n",
    "data1={\n",
    "    'Name':['pranav','Sai','Niraj','Vijay'],\n",
    "    'Age':[27,28,29,30],\n",
    "    'Address':[\"Nagpur\",\"Kanpur\",'Satara',\"Pune\"],\n",
    "    'Qualification':['mE','MBA','MSC','BCA']\n",
    "}\n",
    "data2={\n",
    "    'Name':['Rahul','Ayushi','Sharvari','Dhiraj'],\n",
    "    'Age':[22,23,24,25],\n",
    "    'Address':[\"Mumbai\",\"Delhi\",'Wardha',\"Vizag\"],\n",
    "    'Qualification':['BE','BA','BCOM','BCA']\n",
    "}\n",
    "#converting the dictionaries to dataframes\n",
    "df=pd.DataFrame(data1,index=[0,1,2,3])\n",
    "df1=pd.DataFrame(data2,index=[4,5,6,7])\n",
    "\n",
    "#printng the dataset\n",
    "print(df,'\\n\\n',df1)"
   ]
  },
  {
   "cell_type": "code",
   "execution_count": 22,
   "id": "09be5288",
   "metadata": {},
   "outputs": [
    {
     "data": {
      "text/html": [
       "<div>\n",
       "<style scoped>\n",
       "    .dataframe tbody tr th:only-of-type {\n",
       "        vertical-align: middle;\n",
       "    }\n",
       "\n",
       "    .dataframe tbody tr th {\n",
       "        vertical-align: top;\n",
       "    }\n",
       "\n",
       "    .dataframe thead th {\n",
       "        text-align: right;\n",
       "    }\n",
       "</style>\n",
       "<table border=\"1\" class=\"dataframe\">\n",
       "  <thead>\n",
       "    <tr style=\"text-align: right;\">\n",
       "      <th></th>\n",
       "      <th>Name</th>\n",
       "      <th>Age</th>\n",
       "      <th>Address</th>\n",
       "      <th>Qualification</th>\n",
       "    </tr>\n",
       "  </thead>\n",
       "  <tbody>\n",
       "    <tr>\n",
       "      <th>0</th>\n",
       "      <td>pranav</td>\n",
       "      <td>27</td>\n",
       "      <td>Nagpur</td>\n",
       "      <td>mE</td>\n",
       "    </tr>\n",
       "    <tr>\n",
       "      <th>1</th>\n",
       "      <td>Sai</td>\n",
       "      <td>28</td>\n",
       "      <td>Kanpur</td>\n",
       "      <td>MBA</td>\n",
       "    </tr>\n",
       "    <tr>\n",
       "      <th>2</th>\n",
       "      <td>Niraj</td>\n",
       "      <td>29</td>\n",
       "      <td>Satara</td>\n",
       "      <td>MSC</td>\n",
       "    </tr>\n",
       "    <tr>\n",
       "      <th>3</th>\n",
       "      <td>Vijay</td>\n",
       "      <td>30</td>\n",
       "      <td>Pune</td>\n",
       "      <td>BCA</td>\n",
       "    </tr>\n",
       "    <tr>\n",
       "      <th>4</th>\n",
       "      <td>Rahul</td>\n",
       "      <td>22</td>\n",
       "      <td>Mumbai</td>\n",
       "      <td>BE</td>\n",
       "    </tr>\n",
       "    <tr>\n",
       "      <th>5</th>\n",
       "      <td>Ayushi</td>\n",
       "      <td>23</td>\n",
       "      <td>Delhi</td>\n",
       "      <td>BA</td>\n",
       "    </tr>\n",
       "    <tr>\n",
       "      <th>6</th>\n",
       "      <td>Sharvari</td>\n",
       "      <td>24</td>\n",
       "      <td>Wardha</td>\n",
       "      <td>BCOM</td>\n",
       "    </tr>\n",
       "    <tr>\n",
       "      <th>7</th>\n",
       "      <td>Dhiraj</td>\n",
       "      <td>25</td>\n",
       "      <td>Vizag</td>\n",
       "      <td>BCA</td>\n",
       "    </tr>\n",
       "  </tbody>\n",
       "</table>\n",
       "</div>"
      ],
      "text/plain": [
       "       Name  Age Address Qualification\n",
       "0    pranav   27  Nagpur            mE\n",
       "1       Sai   28  Kanpur           MBA\n",
       "2     Niraj   29  Satara           MSC\n",
       "3     Vijay   30    Pune           BCA\n",
       "4     Rahul   22  Mumbai            BE\n",
       "5    Ayushi   23   Delhi            BA\n",
       "6  Sharvari   24  Wardha          BCOM\n",
       "7    Dhiraj   25   Vizag           BCA"
      ]
     },
     "execution_count": 22,
     "metadata": {},
     "output_type": "execute_result"
    }
   ],
   "source": [
    "\n",
    "frames = [df, df1]\n",
    "\n",
    "result = pd.concat([df, df1], ignore_index=True, sort=False)\n",
    "result"
   ]
  },
  {
   "cell_type": "code",
   "execution_count": 23,
   "id": "42469c6f",
   "metadata": {},
   "outputs": [
    {
     "name": "stdout",
     "output_type": "stream",
     "text": [
      "     Name  Age Address Qualification\n",
      "0  pranav   27  Nagpur            mE\n",
      "1     Sai   28  Kanpur           MBA\n",
      "2   Niraj   29  Satara           MSC\n",
      "3   Vijay   30    Pune           BCA \n",
      "\n",
      "        Name  Age Address Qualification\n",
      "2     Rahul   22  Mumbai            BE\n",
      "3    Ayushi   23   Delhi            BA\n",
      "6  Sharvari   24  Wardha          BCOM\n",
      "7    Dhiraj   25   Vizag           BCA\n"
     ]
    }
   ],
   "source": [
    "#creating the dataset\n",
    "data1={\n",
    "    'Name':['pranav','Sai','Niraj','Vijay'],\n",
    "    'Age':[27,28,29,30],\n",
    "    'Address':[\"Nagpur\",\"Kanpur\",'Satara',\"Pune\"],\n",
    "    'Qualification':['mE','MBA','MSC','BCA']\n",
    "}\n",
    "data2={\n",
    "    'Name':['Rahul','Ayushi','Sharvari','Dhiraj'],\n",
    "    'Age':[22,23,24,25],\n",
    "    'Address':[\"Mumbai\",\"Delhi\",'Wardha',\"Vizag\"],\n",
    "    'Qualification':['BE','BA','BCOM','BCA']\n",
    "}\n",
    "#converting the dictionaries to dataframes\n",
    "df=pd.DataFrame(data1,index=[0,1,2,3])\n",
    "df1=pd.DataFrame(data2,index=[2,3,6,7])\n",
    "\n",
    "#printng the dataset\n",
    "print(df,'\\n\\n',df1)"
   ]
  },
  {
   "cell_type": "code",
   "execution_count": 30,
   "id": "e40fe757",
   "metadata": {},
   "outputs": [
    {
     "name": "stdout",
     "output_type": "stream",
     "text": [
      "    Name  Age Address Qualification    Name  Age Address Qualification\n",
      "2  Niraj   29  Satara           MSC   Rahul   22  Mumbai            BE\n",
      "3  Vijay   30    Pune           BCA  Ayushi   23   Delhi            BA\n"
     ]
    }
   ],
   "source": [
    "#concatenating with 'join' argument  concatenating data with same index number\n",
    "res2=pd.concat([df,df1],axis=1,join='inner')\n",
    "print(res2)"
   ]
  },
  {
   "cell_type": "code",
   "execution_count": 29,
   "id": "aecab70d",
   "metadata": {},
   "outputs": [
    {
     "name": "stdout",
     "output_type": "stream",
     "text": [
      "     Name   Age Address Qualification      Name   Age Address Qualification\n",
      "0  pranav  27.0  Nagpur            mE       NaN   NaN     NaN           NaN\n",
      "1     Sai  28.0  Kanpur           MBA       NaN   NaN     NaN           NaN\n",
      "2   Niraj  29.0  Satara           MSC     Rahul  22.0  Mumbai            BE\n",
      "3   Vijay  30.0    Pune           BCA    Ayushi  23.0   Delhi            BA\n",
      "6     NaN   NaN     NaN           NaN  Sharvari  24.0  Wardha          BCOM\n",
      "7     NaN   NaN     NaN           NaN    Dhiraj  25.0   Vizag           BCA\n"
     ]
    }
   ],
   "source": [
    "#start argument in concatenating\n",
    "res3=pd.concat([df,df1],axis=1,sort=False)\n",
    "print(res3)"
   ]
  },
  {
   "cell_type": "code",
   "execution_count": 31,
   "id": "1d24b123",
   "metadata": {},
   "outputs": [
    {
     "name": "stdout",
     "output_type": "stream",
     "text": [
      "     Name   Age Address Qualification      Name   Age Address Qualification\n",
      "0  pranav  27.0  Nagpur            mE       NaN   NaN     NaN           NaN\n",
      "1     Sai  28.0  Kanpur           MBA       NaN   NaN     NaN           NaN\n",
      "2   Niraj  29.0  Satara           MSC     Rahul  22.0  Mumbai            BE\n",
      "3   Vijay  30.0    Pune           BCA    Ayushi  23.0   Delhi            BA\n",
      "6     NaN   NaN     NaN           NaN  Sharvari  24.0  Wardha          BCOM\n",
      "7     NaN   NaN     NaN           NaN    Dhiraj  25.0   Vizag           BCA\n"
     ]
    }
   ],
   "source": [
    "#start argument in concatenating\n",
    "res3=pd.concat([df,df1],axis=1,sort=True)\n",
    "print(res3)"
   ]
  },
  {
   "cell_type": "code",
   "execution_count": 32,
   "id": "4952c73a",
   "metadata": {},
   "outputs": [
    {
     "name": "stdout",
     "output_type": "stream",
     "text": [
      "     Name  Age Address Qualification\n",
      "0  pranav   27  Nagpur            mE\n",
      "1     Sai   28  Kanpur           MBA\n",
      "2   Niraj   29  Satara           MSC\n",
      "3   Vijay   30    Pune           BCA \n",
      "\n",
      "        Name  Age Address Qualification\n",
      "4     Rahul   22  Mumbai            BE\n",
      "5    Ayushi   23   Delhi            BA\n",
      "6  Sharvari   24  Wardha          BCOM\n",
      "7    Dhiraj   25   Vizag           BCA\n"
     ]
    }
   ],
   "source": [
    "#creating the dataset\n",
    "data1={\n",
    "    'Name':['pranav','Sai','Niraj','Vijay'],\n",
    "    'Age':[27,28,29,30],\n",
    "    'Address':[\"Nagpur\",\"Kanpur\",'Satara',\"Pune\"],\n",
    "    'Qualification':['mE','MBA','MSC','BCA']\n",
    "}\n",
    "data2={\n",
    "    'Name':['Rahul','Ayushi','Sharvari','Dhiraj'],\n",
    "    'Age':[22,23,24,25],\n",
    "    'Address':[\"Mumbai\",\"Delhi\",'Wardha',\"Vizag\"],\n",
    "    'Qualification':['BE','BA','BCOM','BCA']\n",
    "}\n",
    "#converting the dictionaries to dataframes\n",
    "df=pd.DataFrame(data1,index=[0,1,2,3])\n",
    "df1=pd.DataFrame(data2,index=[4,5,6,7])\n",
    "\n",
    "#printng the dataset\n",
    "print(df,'\\n\\n',df1)"
   ]
  },
  {
   "cell_type": "code",
   "execution_count": 33,
   "id": "9666b22e",
   "metadata": {},
   "outputs": [
    {
     "name": "stdout",
     "output_type": "stream",
     "text": [
      "       Name  Age Address Qualification\n",
      "0    pranav   27  Nagpur            mE\n",
      "1       Sai   28  Kanpur           MBA\n",
      "2     Niraj   29  Satara           MSC\n",
      "3     Vijay   30    Pune           BCA\n",
      "4     Rahul   22  Mumbai            BE\n",
      "5    Ayushi   23   Delhi            BA\n",
      "6  Sharvari   24  Wardha          BCOM\n",
      "7    Dhiraj   25   Vizag           BCA\n"
     ]
    }
   ],
   "source": [
    "#using append function\n",
    "res=df.append(df1)\n",
    "print(res)"
   ]
  },
  {
   "cell_type": "code",
   "execution_count": 34,
   "id": "85525c00",
   "metadata": {},
   "outputs": [
    {
     "name": "stdout",
     "output_type": "stream",
     "text": [
      "     Name  Age Address Qualification\n",
      "0  pranav   27  Nagpur            mE\n",
      "1     Sai   28  Kanpur           MBA\n",
      "2   Niraj   29  Satara           MSC\n",
      "3   Vijay   30    Pune           BCA \n",
      "\n",
      "        Name  Age Address Qualification\n",
      "2     Rahul   22  Mumbai            BE\n",
      "3    Ayushi   23   Delhi            BA\n",
      "6  Sharvari   24  Wardha          BCOM\n",
      "7    Dhiraj   25   Vizag           BCA\n"
     ]
    }
   ],
   "source": [
    "#creating the dataset\n",
    "data1={\n",
    "    'Name':['pranav','Sai','Niraj','Vijay'],\n",
    "    'Age':[27,28,29,30],\n",
    "    'Address':[\"Nagpur\",\"Kanpur\",'Satara',\"Pune\"],\n",
    "    'Qualification':['mE','MBA','MSC','BCA']\n",
    "}\n",
    "data2={\n",
    "    'Name':['Rahul','Ayushi','Sharvari','Dhiraj'],\n",
    "    'Age':[22,23,24,25],\n",
    "    'Address':[\"Mumbai\",\"Delhi\",'Wardha',\"Vizag\"],\n",
    "    'Qualification':['BE','BA','BCOM','BCA']\n",
    "}\n",
    "#converting the dictionaries to dataframes\n",
    "df=pd.DataFrame(data1,index=[0,1,2,3])\n",
    "df1=pd.DataFrame(data2,index=[2,3,6,7])\n",
    "\n",
    "#printng the dataset\n",
    "print(df,'\\n\\n',df1)"
   ]
  },
  {
   "cell_type": "code",
   "execution_count": 35,
   "id": "083bc3f3",
   "metadata": {},
   "outputs": [
    {
     "name": "stdout",
     "output_type": "stream",
     "text": [
      "       Name  Age Address Qualification\n",
      "0    pranav   27  Nagpur            mE\n",
      "1       Sai   28  Kanpur           MBA\n",
      "2     Niraj   29  Satara           MSC\n",
      "3     Vijay   30    Pune           BCA\n",
      "4     Rahul   22  Mumbai            BE\n",
      "5    Ayushi   23   Delhi            BA\n",
      "6  Sharvari   24  Wardha          BCOM\n",
      "7    Dhiraj   25   Vizag           BCA\n"
     ]
    }
   ],
   "source": [
    "#ignore_ndex argument\n",
    "res=pd.concat([df,df1],ignore_index=True)\n",
    "print(res)"
   ]
  },
  {
   "cell_type": "code",
   "execution_count": 36,
   "id": "bf81e209",
   "metadata": {},
   "outputs": [
    {
     "name": "stdout",
     "output_type": "stream",
     "text": [
      "     Name  Age Address Qualification\n",
      "0  pranav   27  Nagpur            mE\n",
      "1     Sai   28  Kanpur           MBA\n",
      "2   Niraj   29  Satara           MSC\n",
      "3   Vijay   30    Pune           BCA \n",
      "\n",
      "        Name  Age Address Qualification\n",
      "4     Rahul   22  Mumbai            BE\n",
      "5    Ayushi   23   Delhi            BA\n",
      "6  Sharvari   24  Wardha          BCOM\n",
      "7    Dhiraj   25   Vizag           BCA\n"
     ]
    }
   ],
   "source": [
    "#creating the dataset\n",
    "data1={\n",
    "    'Name':['pranav','Sai','Niraj','Vijay'],\n",
    "    'Age':[27,28,29,30],\n",
    "    'Address':[\"Nagpur\",\"Kanpur\",'Satara',\"Pune\"],\n",
    "    'Qualification':['mE','MBA','MSC','BCA']\n",
    "}\n",
    "data2={\n",
    "    'Name':['Rahul','Ayushi','Sharvari','Dhiraj'],\n",
    "    'Age':[22,23,24,25],\n",
    "    'Address':[\"Mumbai\",\"Delhi\",'Wardha',\"Vizag\"],\n",
    "    'Qualification':['BE','BA','BCOM','BCA']\n",
    "}\n",
    "#converting the dictionaries to dataframes\n",
    "df=pd.DataFrame(data1,index=[0,1,2,3])\n",
    "df1=pd.DataFrame(data2,index=[4,5,6,7])\n",
    "\n",
    "#printng the dataset\n",
    "print(df,'\\n\\n',df1)"
   ]
  },
  {
   "cell_type": "code",
   "execution_count": 37,
   "id": "549e5dc8",
   "metadata": {},
   "outputs": [
    {
     "name": "stdout",
     "output_type": "stream",
     "text": [
      "         Name  Age Address Qualification\n",
      "x 0    pranav   27  Nagpur            mE\n",
      "  1       Sai   28  Kanpur           MBA\n",
      "  2     Niraj   29  Satara           MSC\n",
      "  3     Vijay   30    Pune           BCA\n",
      "y 4     Rahul   22  Mumbai            BE\n",
      "  5    Ayushi   23   Delhi            BA\n",
      "  6  Sharvari   24  Wardha          BCOM\n",
      "  7    Dhiraj   25   Vizag           BCA\n"
     ]
    }
   ],
   "source": [
    "#concatenating using key\n",
    "frames=[df,df1]\n",
    "res=pd.concat(frames,keys=['x','y'])\n",
    "print(res)"
   ]
  },
  {
   "cell_type": "code",
   "execution_count": 39,
   "id": "4b130796",
   "metadata": {},
   "outputs": [
    {
     "name": "stdout",
     "output_type": "stream",
     "text": [
      "     Name  Age Address Qualification\n",
      "0  pranav   27  Nagpur            mE\n",
      "1     Sai   28  Kanpur           MBA\n",
      "2   Niraj   29  Satara           MSC\n",
      "3   Vijay   30    Pune           BCA \n",
      "\n",
      " 0    1000\n",
      "1    2000\n",
      "2    3000\n",
      "3    4000\n",
      "Name: Salary, dtype: int64\n"
     ]
    }
   ],
   "source": [
    "#creating the dataset\n",
    "data1={\n",
    "    'Name':['pranav','Sai','Niraj','Vijay'],\n",
    "    'Age':[27,28,29,30],\n",
    "    'Address':[\"Nagpur\",\"Kanpur\",'Satara',\"Pune\"],\n",
    "    'Qualification':['mE','MBA','MSC','BCA']\n",
    "}\n",
    "\n",
    "#converting the dictionaries to dataframes\n",
    "df=pd.DataFrame(data1,index=[0,1,2,3])\n",
    "\n",
    "\n",
    "#creating a series\n",
    "s1=pd.Series([1000,2000,3000,4000],name='Salary')\n",
    "print(df,'\\n\\n',s1)"
   ]
  },
  {
   "cell_type": "code",
   "execution_count": 40,
   "id": "5baa93a8",
   "metadata": {},
   "outputs": [
    {
     "name": "stdout",
     "output_type": "stream",
     "text": [
      "     Name  Age Address Qualification  Salary\n",
      "0  pranav   27  Nagpur            mE    1000\n",
      "1     Sai   28  Kanpur           MBA    2000\n",
      "2   Niraj   29  Satara           MSC    3000\n",
      "3   Vijay   30    Pune           BCA    4000\n"
     ]
    }
   ],
   "source": [
    "#concatenating a dataframe and a series\n",
    "res=pd.concat([df,s1],axis=1)\n",
    "print(res)"
   ]
  },
  {
   "cell_type": "code",
   "execution_count": 44,
   "id": "0883c440",
   "metadata": {},
   "outputs": [
    {
     "data": {
      "text/plain": [
       "Name             object\n",
       "Age                int8\n",
       "Address          object\n",
       "Qualification    object\n",
       "Salary            int64\n",
       "dtype: object"
      ]
     },
     "execution_count": 44,
     "metadata": {},
     "output_type": "execute_result"
    }
   ],
   "source": [
    "#checking the datatype of dataframe\n",
    "res.dtypes"
   ]
  },
  {
   "cell_type": "code",
   "execution_count": 45,
   "id": "ab826544",
   "metadata": {},
   "outputs": [
    {
     "data": {
      "text/plain": [
       "Name             object\n",
       "Age                int8\n",
       "Address          object\n",
       "Qualification    object\n",
       "Salary            int64\n",
       "dtype: object"
      ]
     },
     "execution_count": 45,
     "metadata": {},
     "output_type": "execute_result"
    }
   ],
   "source": [
    "#changing/converting int64 to int8\n",
    "res['Age']=res['Age'].astype(np.int8)\n",
    "res.dtypes"
   ]
  },
  {
   "cell_type": "code",
   "execution_count": 47,
   "id": "95dd5f81",
   "metadata": {},
   "outputs": [
    {
     "data": {
      "text/plain": [
       "Name              object\n",
       "Age                 int8\n",
       "Address           object\n",
       "Qualification     object\n",
       "Salary           float64\n",
       "dtype: object"
      ]
     },
     "execution_count": 47,
     "metadata": {},
     "output_type": "execute_result"
    }
   ],
   "source": [
    "#converting int64 to float64\n",
    "res['Salary']=res['Salary'].astype(float)\n",
    "res.dtypes"
   ]
  },
  {
   "cell_type": "code",
   "execution_count": 48,
   "id": "9b202529",
   "metadata": {},
   "outputs": [
    {
     "name": "stdout",
     "output_type": "stream",
     "text": [
      "     Name  Age Address Qualification  Salary\n",
      "0  pranav   27  Nagpur            mE    1000\n",
      "1     Sai   28  Kanpur           MBA    2000\n",
      "2   Niraj   29  Satara           MSC    3000\n",
      "3   Vijay   30    Pune           BCA    4000\n"
     ]
    }
   ],
   "source": [
    "#concatenating a dataframe and a series\n",
    "res=pd.concat([df,s1],axis=1)\n",
    "print(res)"
   ]
  },
  {
   "cell_type": "code",
   "execution_count": 50,
   "id": "d8370c86",
   "metadata": {},
   "outputs": [
    {
     "name": "stdout",
     "output_type": "stream",
     "text": [
      "     Name   Age Address Qualification  Salary\n",
      "0  pranav  27.0  Nagpur            mE  1000.0\n",
      "1     Sai  28.0  Kanpur           MBA  2000.0\n",
      "2   Niraj  29.0  Satara           MSC  3000.0\n",
      "3   Vijay  30.0    Pune           BCA  4000.0\n"
     ]
    }
   ],
   "source": [
    "#converting multiple columns\n",
    "res[['Age','Salary']]=res[['Age','Salary']].astype(float)\n",
    "print(res)"
   ]
  },
  {
   "cell_type": "code",
   "execution_count": 51,
   "id": "9cc41bed",
   "metadata": {},
   "outputs": [
    {
     "data": {
      "text/plain": [
       "Name              object\n",
       "Age              float64\n",
       "Address           object\n",
       "Qualification     object\n",
       "Salary           float64\n",
       "dtype: object"
      ]
     },
     "execution_count": 51,
     "metadata": {},
     "output_type": "execute_result"
    }
   ],
   "source": [
    "res.dtypes"
   ]
  },
  {
   "cell_type": "code",
   "execution_count": 52,
   "id": "2d692800",
   "metadata": {},
   "outputs": [
    {
     "name": "stdout",
     "output_type": "stream",
     "text": [
      "     Name  Age Address Qualification  Salary\n",
      "0  pranav   27  Nagpur            mE    1000\n",
      "1     Sai   28  Kanpur           MBA    2000\n",
      "2   Niraj   29  Satara           MSC    3000\n",
      "3   Vijay   30    Pune           BCA    4000\n"
     ]
    }
   ],
   "source": [
    "res=pd.concat([df,s1],axis=1)\n",
    "print(res)"
   ]
  },
  {
   "cell_type": "code",
   "execution_count": 56,
   "id": "17822cad",
   "metadata": {},
   "outputs": [
    {
     "name": "stdout",
     "output_type": "stream",
     "text": [
      "     Name   Age Address Qualification  Salary\n",
      "0  pranav  27.0  Nagpur            mE    1000\n",
      "1     Sai  28.0  Kanpur           MBA    2000\n",
      "2   Niraj  29.0  Satara           MSC    3000\n",
      "3   Vijay  30.0    Pune           BCA    4000\n",
      "Name              object\n",
      "Age              float32\n",
      "Address           object\n",
      "Qualification     object\n",
      "Salary             int64\n",
      "dtype: object\n"
     ]
    }
   ],
   "source": [
    "#using downcast argumnet\n",
    "res['Age']=pd.to_numeric(res['Age'],downcast='float')\n",
    "print(res)\n",
    "print(res.dtypes)"
   ]
  },
  {
   "cell_type": "code",
   "execution_count": null,
   "id": "374d177b",
   "metadata": {},
   "outputs": [],
   "source": []
  },
  {
   "cell_type": "code",
   "execution_count": 57,
   "id": "9537600f",
   "metadata": {},
   "outputs": [
    {
     "name": "stdout",
     "output_type": "stream",
     "text": [
      "     Name   Age Address Qualification  Salary\n",
      "0  pranav  27.0  Nagpur            mE  1000.0\n",
      "1     Sai  28.0  Kanpur           MBA  2000.0\n",
      "2   Niraj  29.0  Satara           MSC  3000.0\n",
      "3   Vijay  30.0    Pune           BCA  4000.0\n",
      "Name              object\n",
      "Age              float32\n",
      "Address           object\n",
      "Qualification     object\n",
      "Salary           float32\n",
      "dtype: object\n"
     ]
    }
   ],
   "source": [
    "res['Salary']=pd.to_numeric(res['Salary'],downcast='float')\n",
    "print(res)\n",
    "print(res.dtypes)"
   ]
  },
  {
   "cell_type": "code",
   "execution_count": null,
   "id": "89a1b0cb",
   "metadata": {},
   "outputs": [],
   "source": []
  }
 ],
 "metadata": {
  "kernelspec": {
   "display_name": "Python 3 (ipykernel)",
   "language": "python",
   "name": "python3"
  },
  "language_info": {
   "codemirror_mode": {
    "name": "ipython",
    "version": 3
   },
   "file_extension": ".py",
   "mimetype": "text/x-python",
   "name": "python",
   "nbconvert_exporter": "python",
   "pygments_lexer": "ipython3",
   "version": "3.9.7"
  }
 },
 "nbformat": 4,
 "nbformat_minor": 5
}
