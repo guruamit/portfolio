{
 "cells": [
  {
   "cell_type": "code",
   "execution_count": null,
   "id": "d4359343",
   "metadata": {},
   "outputs": [],
   "source": [
    "#Topic to complete\n",
    "#1 Statistical Functions\n",
    "#2 Data Transformations"
   ]
  },
  {
   "cell_type": "code",
   "execution_count": 27,
   "id": "9e30aa2b",
   "metadata": {},
   "outputs": [],
   "source": [
    "#importing mportant libraries\n",
    "import numpy as np\n",
    "import pandas as pd"
   ]
  },
  {
   "cell_type": "code",
   "execution_count": 44,
   "id": "5e93d6b2",
   "metadata": {},
   "outputs": [
    {
     "data": {
      "text/html": [
       "<div>\n",
       "<style scoped>\n",
       "    .dataframe tbody tr th:only-of-type {\n",
       "        vertical-align: middle;\n",
       "    }\n",
       "\n",
       "    .dataframe tbody tr th {\n",
       "        vertical-align: top;\n",
       "    }\n",
       "\n",
       "    .dataframe thead th {\n",
       "        text-align: right;\n",
       "    }\n",
       "</style>\n",
       "<table border=\"1\" class=\"dataframe\">\n",
       "  <thead>\n",
       "    <tr style=\"text-align: right;\">\n",
       "      <th></th>\n",
       "      <th>Sample</th>\n",
       "      <th>Material1</th>\n",
       "      <th>Material2</th>\n",
       "      <th>Material3</th>\n",
       "      <th>Condition</th>\n",
       "      <th>Octane</th>\n",
       "    </tr>\n",
       "  </thead>\n",
       "  <tbody>\n",
       "    <tr>\n",
       "      <th>0</th>\n",
       "      <td>1</td>\n",
       "      <td>55.33</td>\n",
       "      <td>1.72</td>\n",
       "      <td>54</td>\n",
       "      <td>1.66219</td>\n",
       "      <td>92.19</td>\n",
       "    </tr>\n",
       "    <tr>\n",
       "      <th>1</th>\n",
       "      <td>2</td>\n",
       "      <td>59.13</td>\n",
       "      <td>1.20</td>\n",
       "      <td>53</td>\n",
       "      <td>1.58399</td>\n",
       "      <td>92.74</td>\n",
       "    </tr>\n",
       "    <tr>\n",
       "      <th>2</th>\n",
       "      <td>3</td>\n",
       "      <td>57.39</td>\n",
       "      <td>1.42</td>\n",
       "      <td>55</td>\n",
       "      <td>1.61731</td>\n",
       "      <td>91.88</td>\n",
       "    </tr>\n",
       "    <tr>\n",
       "      <th>3</th>\n",
       "      <td>4</td>\n",
       "      <td>56.43</td>\n",
       "      <td>1.78</td>\n",
       "      <td>55</td>\n",
       "      <td>1.66228</td>\n",
       "      <td>92.80</td>\n",
       "    </tr>\n",
       "    <tr>\n",
       "      <th>4</th>\n",
       "      <td>5</td>\n",
       "      <td>55.98</td>\n",
       "      <td>1.58</td>\n",
       "      <td>54</td>\n",
       "      <td>1.63195</td>\n",
       "      <td>92.56</td>\n",
       "    </tr>\n",
       "  </tbody>\n",
       "</table>\n",
       "</div>"
      ],
      "text/plain": [
       "   Sample  Material1  Material2  Material3  Condition  Octane\n",
       "0       1      55.33       1.72         54    1.66219   92.19\n",
       "1       2      59.13       1.20         53    1.58399   92.74\n",
       "2       3      57.39       1.42         55    1.61731   91.88\n",
       "3       4      56.43       1.78         55    1.66228   92.80\n",
       "4       5      55.98       1.58         54    1.63195   92.56"
      ]
     },
     "execution_count": 44,
     "metadata": {},
     "output_type": "execute_result"
    }
   ],
   "source": [
    "#importing data\n",
    "df =pd.read_csv('Octane.csv')\n",
    "df.head()"
   ]
  },
  {
   "cell_type": "code",
   "execution_count": 29,
   "id": "d437b4bc",
   "metadata": {},
   "outputs": [
    {
     "name": "stdout",
     "output_type": "stream",
     "text": [
      "Mean value of material 1 ; 60.17060975609757\n",
      "Mean value of material 2 ; 1.663658536585366\n",
      "Mean value of material 3 ; 55.46341463414634\n",
      "Mean value of Condition : 1.6265713414634146\n",
      "Mean value of Octane : 91.84987804878045\n"
     ]
    }
   ],
   "source": [
    "#calculating mean for material1,material2,material3conditional and octane\n",
    "m1_mean=df['Material1'].mean()\n",
    "m2_mean=df['Material2'].mean()\n",
    "m3_mean=df['Material3'].mean()\n",
    "cond_mean = df['Condition'].mean()\n",
    "octane_mean=df['Octane'].mean()\n",
    "print('Mean value of material 1 ;',m1_mean)\n",
    "print('Mean value of material 2 ;',m2_mean)\n",
    "print('Mean value of material 3 ;',m3_mean)\n",
    "print('Mean value of Condition :', cond_mean)\n",
    "print('Mean value of Octane :',octane_mean)"
   ]
  },
  {
   "cell_type": "code",
   "execution_count": 50,
   "id": "f7a95409",
   "metadata": {},
   "outputs": [
    {
     "name": "stdout",
     "output_type": "stream",
     "text": [
      "Median value of material 1 ; 62.695\n",
      "Median value of material 2 ; 1.28\n",
      "Median value of material 3 ; 56.0\n",
      "Median value of Condition ; 1.6035750000000002\n",
      "Median value of Octane ; 91.735\n"
     ]
    }
   ],
   "source": [
    "#calculating mean for material1,material2,material3conditional and octane\n",
    "m1_mdn=df['Material1'].median()\n",
    "m2_mdn=df['Material2'].median()\n",
    "m3_mdn=df['Material3'].median()\n",
    "cond_mdn = df['Condition'].median()\n",
    "octane_mdn=df['Octane'].median()\n",
    "print('Median value of material 1 ;',m1_mdn)\n",
    "print('Median value of material 2 ;',m2_mdn)\n",
    "print('Median value of material 3 ;',m3_mdn)\n",
    "print('Median value of Condition ;', cond_mdn)\n",
    "print('Median value of Octane ;',octane_mdn)"
   ]
  },
  {
   "cell_type": "code",
   "execution_count": null,
   "id": "c9300621",
   "metadata": {},
   "outputs": [],
   "source": []
  },
  {
   "cell_type": "code",
   "execution_count": 54,
   "id": "9a9d01ea",
   "metadata": {},
   "outputs": [
    {
     "name": "stdout",
     "output_type": "stream",
     "text": [
      "Mode value of material 1 : 0      4.23\n",
      "1      5.53\n",
      "2     17.11\n",
      "3     44.64\n",
      "4     44.66\n",
      "      ...  \n",
      "77    72.30\n",
      "78    72.66\n",
      "79    73.13\n",
      "80    73.74\n",
      "81    75.54\n",
      "Length: 82, dtype: float64\n",
      "Mode value of material 2 : 0    0.0\n",
      "dtype: float64\n",
      "Mode value of material 3 : 0    55\n",
      "dtype: int64\n",
      "Mode value of Condition : 0     1.19975\n",
      "1     1.20817\n",
      "2     1.26174\n",
      "3     1.28802\n",
      "4     1.29842\n",
      "       ...   \n",
      "77    2.08081\n",
      "78    2.14314\n",
      "79    2.17070\n",
      "80    2.17140\n",
      "81    2.31909\n",
      "Length: 82, dtype: float64\n",
      "Mode value of Octane : 0    91.56\n",
      "1    91.61\n",
      "2    92.16\n",
      "dtype: float64\n"
     ]
    }
   ],
   "source": [
    "#simliarly we can use mode function \n",
    "#calculating Mode for material1,material2,material3conditional and octane\n",
    "m1_md=df['Material1'].mode()\n",
    "m2_md=df['Material2'].mode()\n",
    "m3_md=df['Material3'].mode()\n",
    "cond_md=df['Condition'].mode()\n",
    "octane_md=df['Octane'].mode()\n",
    "print('Mode value of material 1 :',m1_md)\n",
    "print('Mode value of material 2 :',m2_md)\n",
    "print('Mode value of material 3 :',m3_md)\n",
    "print('Mode value of Condition :',cond_md)\n",
    "print('Mode value of Octane :',octane_md)"
   ]
  },
  {
   "cell_type": "code",
   "execution_count": 11,
   "id": "d217bf3a",
   "metadata": {},
   "outputs": [
    {
     "name": "stdout",
     "output_type": "stream",
     "text": [
      "Count  value of material 1 ; 82\n",
      "Count  value of material 2 ; 82\n",
      "Count  value of material 3 ; 82\n",
      "Count  value of Condition  : 82\n",
      "Count  value of Octane     : 82\n"
     ]
    }
   ],
   "source": [
    "#calculating median for material1,material2,material3conditional and octane\n",
    "m1_cnt=df['Material1'].count()\n",
    "m2_cnt=df['Material2'].count()\n",
    "m3_cnt=df['Material3'].count()\n",
    "cond_cnt = df['Condition'].count()\n",
    "octane_cnt=df['Octane'].count()\n",
    "print('Count  value of material 1 ;',m1_cnt)\n",
    "print('Count  value of material 2 ;',m2_cnt)\n",
    "print('Count  value of material 3 ;',m3_cnt)\n",
    "print('Count  value of Condition  :', cond_cnt)\n",
    "print('Count  value of Octane     :',octane_cnt)"
   ]
  },
  {
   "cell_type": "code",
   "execution_count": 12,
   "id": "eb74ab5c",
   "metadata": {},
   "outputs": [
    {
     "name": "stdout",
     "output_type": "stream",
     "text": [
      "(82, 6)\n"
     ]
    }
   ],
   "source": [
    "#printing the shape\n",
    "print(df.shape)"
   ]
  },
  {
   "cell_type": "code",
   "execution_count": 14,
   "id": "6ee76727",
   "metadata": {},
   "outputs": [],
   "source": [
    "#unique()   :gives you unique values in the column\n",
    "#nunique()  : number of unique values in the column"
   ]
  },
  {
   "cell_type": "code",
   "execution_count": 15,
   "id": "8855a37d",
   "metadata": {},
   "outputs": [
    {
     "name": "stdout",
     "output_type": "stream",
     "text": [
      "Count  value of material 1 ; 12.43739992552937\n",
      "Count  value of material 2 ; 1.9019518968064713\n",
      "Count  value of material 3 ; 5.377582921059387\n",
      "Count  value of Condition  : 0.2197298227524435\n",
      "Count  value of Octane     : 1.4011243226995749\n"
     ]
    }
   ],
   "source": [
    "#Calculating Standard Deviation  for material1,material2,material3conditional and octane\n",
    "m1_std=df['Material1'].std()\n",
    "m2_std=df['Material2'].std()\n",
    "m3_std=df['Material3'].std()\n",
    "cond_std = df['Condition'].std()\n",
    "octane_std=df['Octane'].std()\n",
    "print('Count  value of material 1 ;',m1_std)\n",
    "print('Count  value of material 2 ;',m2_std)\n",
    "print('Count  value of material 3 ;',m3_std)\n",
    "print('Count  value of Condition  :', cond_std)\n",
    "print('Count  value of Octane     :',octane_std)"
   ]
  },
  {
   "cell_type": "code",
   "execution_count": 16,
   "id": "41c79302",
   "metadata": {},
   "outputs": [
    {
     "name": "stdout",
     "output_type": "stream",
     "text": [
      "minimun  value of material 1 ; 4.23\n",
      "minimun  value of material 2 ; 0.0\n",
      "minimun  value of material 3 ; 40\n",
      "minimun  value of Condition  : 1.19975\n",
      "minimun  value of Octane     : 89.66\n"
     ]
    }
   ],
   "source": [
    "#calculate minimun value for material1,material2,material3conditional and octane\n",
    "m1_min=df['Material1'].min()\n",
    "m2_min=df['Material2'].min()\n",
    "m3_min=df['Material3'].min()\n",
    "cond_min = df['Condition'].min()\n",
    "octane_min=df['Octane'].min()\n",
    "print('minimun  value of material 1 ;',m1_min)\n",
    "print('minimun  value of material 2 ;',m2_min)\n",
    "print('minimun  value of material 3 ;',m3_min)\n",
    "print('minimun  value of Condition  :', cond_min)\n",
    "print('minimun  value of Octane     :',octane_min)"
   ]
  },
  {
   "cell_type": "code",
   "execution_count": 18,
   "id": "52733638",
   "metadata": {},
   "outputs": [
    {
     "name": "stdout",
     "output_type": "stream",
     "text": [
      "maximum value of material 1 ; 75.54\n",
      "maximum value of material 2 ; 10.76\n",
      "maximum  value of material 3 ; 64\n",
      "maximum  value of Condition  : 2.31909\n",
      "maximum  value of Octane     : 97.61\n"
     ]
    }
   ],
   "source": [
    "#calculate maximum value for material1,material2,material3conditional and octane\n",
    "m1_max=df['Material1'].max()\n",
    "m2_max=df['Material2'].max()\n",
    "m3_max=df['Material3'].max()\n",
    "cond_max = df['Condition'].max()\n",
    "octane_max=df['Octane'].max()\n",
    "print('maximum value of material 1 ;',m1_max)\n",
    "print('maximum value of material 2 ;',m2_max)\n",
    "print('maximum  value of material 3 ;',m3_max)\n",
    "print('maximum  value of Condition  :', cond_max)\n",
    "print('maximum  value of Octane     :',octane_max)"
   ]
  },
  {
   "cell_type": "code",
   "execution_count": 20,
   "id": "e98f5200",
   "metadata": {},
   "outputs": [
    {
     "data": {
      "text/html": [
       "<div>\n",
       "<style scoped>\n",
       "    .dataframe tbody tr th:only-of-type {\n",
       "        vertical-align: middle;\n",
       "    }\n",
       "\n",
       "    .dataframe tbody tr th {\n",
       "        vertical-align: top;\n",
       "    }\n",
       "\n",
       "    .dataframe thead th {\n",
       "        text-align: right;\n",
       "    }\n",
       "</style>\n",
       "<table border=\"1\" class=\"dataframe\">\n",
       "  <thead>\n",
       "    <tr style=\"text-align: right;\">\n",
       "      <th></th>\n",
       "      <th>Sample</th>\n",
       "      <th>Material1</th>\n",
       "      <th>Material2</th>\n",
       "      <th>Material3</th>\n",
       "      <th>Condition</th>\n",
       "      <th>Octane</th>\n",
       "    </tr>\n",
       "  </thead>\n",
       "  <tbody>\n",
       "    <tr>\n",
       "      <th>count</th>\n",
       "      <td>82.000000</td>\n",
       "      <td>82.00000</td>\n",
       "      <td>82.000000</td>\n",
       "      <td>82.000000</td>\n",
       "      <td>82.000000</td>\n",
       "      <td>82.000000</td>\n",
       "    </tr>\n",
       "    <tr>\n",
       "      <th>mean</th>\n",
       "      <td>41.500000</td>\n",
       "      <td>60.17061</td>\n",
       "      <td>1.663659</td>\n",
       "      <td>55.463415</td>\n",
       "      <td>1.626571</td>\n",
       "      <td>91.849878</td>\n",
       "    </tr>\n",
       "    <tr>\n",
       "      <th>std</th>\n",
       "      <td>23.815261</td>\n",
       "      <td>12.43740</td>\n",
       "      <td>1.901952</td>\n",
       "      <td>5.377583</td>\n",
       "      <td>0.219730</td>\n",
       "      <td>1.401124</td>\n",
       "    </tr>\n",
       "    <tr>\n",
       "      <th>min</th>\n",
       "      <td>1.000000</td>\n",
       "      <td>4.23000</td>\n",
       "      <td>0.000000</td>\n",
       "      <td>40.000000</td>\n",
       "      <td>1.199750</td>\n",
       "      <td>89.660000</td>\n",
       "    </tr>\n",
       "    <tr>\n",
       "      <th>25%</th>\n",
       "      <td>21.250000</td>\n",
       "      <td>55.38000</td>\n",
       "      <td>0.105000</td>\n",
       "      <td>54.000000</td>\n",
       "      <td>1.518095</td>\n",
       "      <td>90.847500</td>\n",
       "    </tr>\n",
       "    <tr>\n",
       "      <th>50%</th>\n",
       "      <td>41.500000</td>\n",
       "      <td>62.69500</td>\n",
       "      <td>1.280000</td>\n",
       "      <td>56.000000</td>\n",
       "      <td>1.603575</td>\n",
       "      <td>91.735000</td>\n",
       "    </tr>\n",
       "    <tr>\n",
       "      <th>75%</th>\n",
       "      <td>61.750000</td>\n",
       "      <td>67.78000</td>\n",
       "      <td>2.277500</td>\n",
       "      <td>59.750000</td>\n",
       "      <td>1.722818</td>\n",
       "      <td>92.467500</td>\n",
       "    </tr>\n",
       "    <tr>\n",
       "      <th>max</th>\n",
       "      <td>82.000000</td>\n",
       "      <td>75.54000</td>\n",
       "      <td>10.760000</td>\n",
       "      <td>64.000000</td>\n",
       "      <td>2.319090</td>\n",
       "      <td>97.610000</td>\n",
       "    </tr>\n",
       "  </tbody>\n",
       "</table>\n",
       "</div>"
      ],
      "text/plain": [
       "          Sample  Material1  Material2  Material3  Condition     Octane\n",
       "count  82.000000   82.00000  82.000000  82.000000  82.000000  82.000000\n",
       "mean   41.500000   60.17061   1.663659  55.463415   1.626571  91.849878\n",
       "std    23.815261   12.43740   1.901952   5.377583   0.219730   1.401124\n",
       "min     1.000000    4.23000   0.000000  40.000000   1.199750  89.660000\n",
       "25%    21.250000   55.38000   0.105000  54.000000   1.518095  90.847500\n",
       "50%    41.500000   62.69500   1.280000  56.000000   1.603575  91.735000\n",
       "75%    61.750000   67.78000   2.277500  59.750000   1.722818  92.467500\n",
       "max    82.000000   75.54000  10.760000  64.000000   2.319090  97.610000"
      ]
     },
     "execution_count": 20,
     "metadata": {},
     "output_type": "execute_result"
    }
   ],
   "source": [
    "#getting all the statistical parameters in one command\n",
    "df.describe()"
   ]
  },
  {
   "cell_type": "code",
   "execution_count": 21,
   "id": "142db0df",
   "metadata": {},
   "outputs": [],
   "source": [
    "#data Transformation\n"
   ]
  },
  {
   "cell_type": "code",
   "execution_count": 89,
   "id": "7aafb422",
   "metadata": {},
   "outputs": [
    {
     "data": {
      "text/html": [
       "<div>\n",
       "<style scoped>\n",
       "    .dataframe tbody tr th:only-of-type {\n",
       "        vertical-align: middle;\n",
       "    }\n",
       "\n",
       "    .dataframe tbody tr th {\n",
       "        vertical-align: top;\n",
       "    }\n",
       "\n",
       "    .dataframe thead th {\n",
       "        text-align: right;\n",
       "    }\n",
       "</style>\n",
       "<table border=\"1\" class=\"dataframe\">\n",
       "  <thead>\n",
       "    <tr style=\"text-align: right;\">\n",
       "      <th></th>\n",
       "      <th>Age</th>\n",
       "      <th>Gender</th>\n",
       "      <th>Grade</th>\n",
       "      <th>Employed</th>\n",
       "    </tr>\n",
       "    <tr>\n",
       "      <th>Student_id</th>\n",
       "      <th></th>\n",
       "      <th></th>\n",
       "      <th></th>\n",
       "      <th></th>\n",
       "    </tr>\n",
       "  </thead>\n",
       "  <tbody>\n",
       "    <tr>\n",
       "      <th>1</th>\n",
       "      <td>19</td>\n",
       "      <td>Male</td>\n",
       "      <td>1st Class</td>\n",
       "      <td>yes</td>\n",
       "    </tr>\n",
       "    <tr>\n",
       "      <th>2</th>\n",
       "      <td>20</td>\n",
       "      <td>Female</td>\n",
       "      <td>2nd Class</td>\n",
       "      <td>no</td>\n",
       "    </tr>\n",
       "    <tr>\n",
       "      <th>3</th>\n",
       "      <td>18</td>\n",
       "      <td>Male</td>\n",
       "      <td>1st Class</td>\n",
       "      <td>no</td>\n",
       "    </tr>\n",
       "    <tr>\n",
       "      <th>4</th>\n",
       "      <td>21</td>\n",
       "      <td>Female</td>\n",
       "      <td>2nd Class</td>\n",
       "      <td>no</td>\n",
       "    </tr>\n",
       "    <tr>\n",
       "      <th>5</th>\n",
       "      <td>19</td>\n",
       "      <td>Male</td>\n",
       "      <td>1st Class</td>\n",
       "      <td>no</td>\n",
       "    </tr>\n",
       "  </tbody>\n",
       "</table>\n",
       "</div>"
      ],
      "text/plain": [
       "            Age  Gender      Grade Employed\n",
       "Student_id                                 \n",
       "1            19    Male  1st Class      yes\n",
       "2            20  Female  2nd Class       no\n",
       "3            18    Male  1st Class       no\n",
       "4            21  Female  2nd Class       no\n",
       "5            19    Male  1st Class       no"
      ]
     },
     "execution_count": 89,
     "metadata": {},
     "output_type": "execute_result"
    }
   ],
   "source": [
    "df = pd.read_csv('https://raw.githubusercontent.com/TrainingByPackt/Data-Science-with-Python/master/Chapter01/Data/student.csv',index_col=0)\n",
    "df.head()\n"
   ]
  },
  {
   "cell_type": "code",
   "execution_count": 90,
   "id": "705a8218",
   "metadata": {},
   "outputs": [
    {
     "data": {
      "text/html": [
       "<div>\n",
       "<style scoped>\n",
       "    .dataframe tbody tr th:only-of-type {\n",
       "        vertical-align: middle;\n",
       "    }\n",
       "\n",
       "    .dataframe tbody tr th {\n",
       "        vertical-align: top;\n",
       "    }\n",
       "\n",
       "    .dataframe thead th {\n",
       "        text-align: right;\n",
       "    }\n",
       "</style>\n",
       "<table border=\"1\" class=\"dataframe\">\n",
       "  <thead>\n",
       "    <tr style=\"text-align: right;\">\n",
       "      <th></th>\n",
       "      <th>Age</th>\n",
       "    </tr>\n",
       "    <tr>\n",
       "      <th>Student_id</th>\n",
       "      <th></th>\n",
       "    </tr>\n",
       "  </thead>\n",
       "  <tbody>\n",
       "    <tr>\n",
       "      <th>1</th>\n",
       "      <td>19</td>\n",
       "    </tr>\n",
       "    <tr>\n",
       "      <th>2</th>\n",
       "      <td>20</td>\n",
       "    </tr>\n",
       "    <tr>\n",
       "      <th>3</th>\n",
       "      <td>18</td>\n",
       "    </tr>\n",
       "    <tr>\n",
       "      <th>4</th>\n",
       "      <td>21</td>\n",
       "    </tr>\n",
       "    <tr>\n",
       "      <th>5</th>\n",
       "      <td>19</td>\n",
       "    </tr>\n",
       "  </tbody>\n",
       "</table>\n",
       "</div>"
      ],
      "text/plain": [
       "            Age\n",
       "Student_id     \n",
       "1            19\n",
       "2            20\n",
       "3            18\n",
       "4            21\n",
       "5            19"
      ]
     },
     "execution_count": 90,
     "metadata": {},
     "output_type": "execute_result"
    }
   ],
   "source": [
    "#command to include numeric data type column\n",
    "df_numeric=df.select_dtypes(include=[np.number])\n",
    "df_numeric.head()"
   ]
  },
  {
   "cell_type": "code",
   "execution_count": 91,
   "id": "cdbd3fb0",
   "metadata": {},
   "outputs": [
    {
     "data": {
      "text/html": [
       "<div>\n",
       "<style scoped>\n",
       "    .dataframe tbody tr th:only-of-type {\n",
       "        vertical-align: middle;\n",
       "    }\n",
       "\n",
       "    .dataframe tbody tr th {\n",
       "        vertical-align: top;\n",
       "    }\n",
       "\n",
       "    .dataframe thead th {\n",
       "        text-align: right;\n",
       "    }\n",
       "</style>\n",
       "<table border=\"1\" class=\"dataframe\">\n",
       "  <thead>\n",
       "    <tr style=\"text-align: right;\">\n",
       "      <th></th>\n",
       "      <th>Gender</th>\n",
       "      <th>Grade</th>\n",
       "      <th>Employed</th>\n",
       "    </tr>\n",
       "    <tr>\n",
       "      <th>Student_id</th>\n",
       "      <th></th>\n",
       "      <th></th>\n",
       "      <th></th>\n",
       "    </tr>\n",
       "  </thead>\n",
       "  <tbody>\n",
       "    <tr>\n",
       "      <th>1</th>\n",
       "      <td>Male</td>\n",
       "      <td>1st Class</td>\n",
       "      <td>yes</td>\n",
       "    </tr>\n",
       "    <tr>\n",
       "      <th>2</th>\n",
       "      <td>Female</td>\n",
       "      <td>2nd Class</td>\n",
       "      <td>no</td>\n",
       "    </tr>\n",
       "    <tr>\n",
       "      <th>3</th>\n",
       "      <td>Male</td>\n",
       "      <td>1st Class</td>\n",
       "      <td>no</td>\n",
       "    </tr>\n",
       "    <tr>\n",
       "      <th>4</th>\n",
       "      <td>Female</td>\n",
       "      <td>2nd Class</td>\n",
       "      <td>no</td>\n",
       "    </tr>\n",
       "    <tr>\n",
       "      <th>5</th>\n",
       "      <td>Male</td>\n",
       "      <td>1st Class</td>\n",
       "      <td>no</td>\n",
       "    </tr>\n",
       "  </tbody>\n",
       "</table>\n",
       "</div>"
      ],
      "text/plain": [
       "            Gender      Grade Employed\n",
       "Student_id                            \n",
       "1             Male  1st Class      yes\n",
       "2           Female  2nd Class       no\n",
       "3             Male  1st Class       no\n",
       "4           Female  2nd Class       no\n",
       "5             Male  1st Class       no"
      ]
     },
     "execution_count": 91,
     "metadata": {},
     "output_type": "execute_result"
    }
   ],
   "source": [
    "#command to exclude numeric data type column\n",
    "df_categorical=df.select_dtypes(exclude=[np.number])\n",
    "df_categorical.head()"
   ]
  },
  {
   "cell_type": "code",
   "execution_count": 92,
   "id": "3326af46",
   "metadata": {},
   "outputs": [
    {
     "name": "stdout",
     "output_type": "stream",
     "text": [
      "3\n",
      "['1st Class' '2nd Class' '3rd Class']\n"
     ]
    }
   ],
   "source": [
    "#getting unique value from grade variable\n",
    "print(df['Grade'].nunique())\n",
    "print(df['Grade'].unique())"
   ]
  },
  {
   "cell_type": "code",
   "execution_count": 93,
   "id": "9154aa5d",
   "metadata": {},
   "outputs": [
    {
     "name": "stdout",
     "output_type": "stream",
     "text": [
      "2\n"
     ]
    }
   ],
   "source": [
    "#getting unique value from grade variable\n",
    "print(df['Gender'].nunique())"
   ]
  },
  {
   "cell_type": "code",
   "execution_count": 94,
   "id": "7fc99adb",
   "metadata": {},
   "outputs": [
    {
     "name": "stdout",
     "output_type": "stream",
     "text": [
      "2\n"
     ]
    }
   ],
   "source": [
    "#getting unique value from grade variable\n",
    "print(df['Employed'].nunique())"
   ]
  },
  {
   "cell_type": "code",
   "execution_count": 95,
   "id": "73341221",
   "metadata": {},
   "outputs": [
    {
     "data": {
      "text/plain": [
       "2nd Class    80\n",
       "3rd Class    80\n",
       "1st Class    72\n",
       "Name: Grade, dtype: int64"
      ]
     },
     "execution_count": 95,
     "metadata": {},
     "output_type": "execute_result"
    }
   ],
   "source": [
    "#getting prportionate of values in each category in the target variable\n",
    "df['Grade'].value_counts()"
   ]
  },
  {
   "cell_type": "code",
   "execution_count": 96,
   "id": "0adb3de6",
   "metadata": {},
   "outputs": [
    {
     "data": {
      "text/plain": [
       "Male      136\n",
       "Female     96\n",
       "Name: Gender, dtype: int64"
      ]
     },
     "execution_count": 96,
     "metadata": {},
     "output_type": "execute_result"
    }
   ],
   "source": [
    "#getting prportionate of values in each category in the target variable\n",
    "df['Gender'].value_counts()"
   ]
  },
  {
   "cell_type": "code",
   "execution_count": 97,
   "id": "7c2ffa54",
   "metadata": {},
   "outputs": [
    {
     "data": {
      "text/plain": [
       "no     133\n",
       "yes     99\n",
       "Name: Employed, dtype: int64"
      ]
     },
     "execution_count": 97,
     "metadata": {},
     "output_type": "execute_result"
    }
   ],
   "source": [
    "#getting prportionate of values in each category in the target variable\n",
    "df['Employed'].value_counts()"
   ]
  },
  {
   "cell_type": "code",
   "execution_count": 98,
   "id": "cf035db0",
   "metadata": {},
   "outputs": [
    {
     "data": {
      "text/html": [
       "<div>\n",
       "<style scoped>\n",
       "    .dataframe tbody tr th:only-of-type {\n",
       "        vertical-align: middle;\n",
       "    }\n",
       "\n",
       "    .dataframe tbody tr th {\n",
       "        vertical-align: top;\n",
       "    }\n",
       "\n",
       "    .dataframe thead th {\n",
       "        text-align: right;\n",
       "    }\n",
       "</style>\n",
       "<table border=\"1\" class=\"dataframe\">\n",
       "  <thead>\n",
       "    <tr style=\"text-align: right;\">\n",
       "      <th></th>\n",
       "      <th>Age</th>\n",
       "      <th>Gender</th>\n",
       "      <th>Grade</th>\n",
       "      <th>Employed</th>\n",
       "    </tr>\n",
       "    <tr>\n",
       "      <th>Student_id</th>\n",
       "      <th></th>\n",
       "      <th></th>\n",
       "      <th></th>\n",
       "      <th></th>\n",
       "    </tr>\n",
       "  </thead>\n",
       "  <tbody>\n",
       "    <tr>\n",
       "      <th>1</th>\n",
       "      <td>19</td>\n",
       "      <td>0</td>\n",
       "      <td>1</td>\n",
       "      <td>1</td>\n",
       "    </tr>\n",
       "    <tr>\n",
       "      <th>2</th>\n",
       "      <td>20</td>\n",
       "      <td>1</td>\n",
       "      <td>1</td>\n",
       "      <td>0</td>\n",
       "    </tr>\n",
       "    <tr>\n",
       "      <th>3</th>\n",
       "      <td>18</td>\n",
       "      <td>0</td>\n",
       "      <td>1</td>\n",
       "      <td>0</td>\n",
       "    </tr>\n",
       "    <tr>\n",
       "      <th>4</th>\n",
       "      <td>21</td>\n",
       "      <td>1</td>\n",
       "      <td>1</td>\n",
       "      <td>0</td>\n",
       "    </tr>\n",
       "    <tr>\n",
       "      <th>5</th>\n",
       "      <td>19</td>\n",
       "      <td>0</td>\n",
       "      <td>1</td>\n",
       "      <td>0</td>\n",
       "    </tr>\n",
       "  </tbody>\n",
       "</table>\n",
       "</div>"
      ],
      "text/plain": [
       "            Age  Gender  Grade  Employed\n",
       "Student_id                              \n",
       "1            19       0      1         1\n",
       "2            20       1      1         0\n",
       "3            18       0      1         0\n",
       "4            21       1      1         0\n",
       "5            19       0      1         0"
      ]
     },
     "execution_count": 98,
     "metadata": {},
     "output_type": "execute_result"
    }
   ],
   "source": [
    "#Replacing categorical values with numbers\n",
    "df['Gender'].replace({'Male': 0, 'Female': 1}, inplace =True)\n",
    "df['Employed'].replace({'no': 0, 'yes': 1}, inplace =True)\n",
    "df['Grade'].replace({'1st Class': 1, '2nd Class': 1,'3rd Class': 0}, inplace =True)\n",
    "df.head()"
   ]
  },
  {
   "cell_type": "code",
   "execution_count": 99,
   "id": "48a0a132",
   "metadata": {},
   "outputs": [
    {
     "data": {
      "text/html": [
       "<div>\n",
       "<style scoped>\n",
       "    .dataframe tbody tr th:only-of-type {\n",
       "        vertical-align: middle;\n",
       "    }\n",
       "\n",
       "    .dataframe tbody tr th {\n",
       "        vertical-align: top;\n",
       "    }\n",
       "\n",
       "    .dataframe thead th {\n",
       "        text-align: right;\n",
       "    }\n",
       "</style>\n",
       "<table border=\"1\" class=\"dataframe\">\n",
       "  <thead>\n",
       "    <tr style=\"text-align: right;\">\n",
       "      <th></th>\n",
       "      <th>a</th>\n",
       "      <th>b</th>\n",
       "      <th>c</th>\n",
       "    </tr>\n",
       "  </thead>\n",
       "  <tbody>\n",
       "    <tr>\n",
       "      <th>0</th>\n",
       "      <td>1</td>\n",
       "      <td>2</td>\n",
       "      <td>3</td>\n",
       "    </tr>\n",
       "    <tr>\n",
       "      <th>1</th>\n",
       "      <td>4</td>\n",
       "      <td>5</td>\n",
       "      <td>6</td>\n",
       "    </tr>\n",
       "    <tr>\n",
       "      <th>2</th>\n",
       "      <td>7</td>\n",
       "      <td>8</td>\n",
       "      <td>9</td>\n",
       "    </tr>\n",
       "  </tbody>\n",
       "</table>\n",
       "</div>"
      ],
      "text/plain": [
       "   a  b  c\n",
       "0  1  2  3\n",
       "1  4  5  6\n",
       "2  7  8  9"
      ]
     },
     "execution_count": 99,
     "metadata": {},
     "output_type": "execute_result"
    }
   ],
   "source": [
    "#Basic Data Transformation creating array \n",
    "df=pd.DataFrame(np.array([[1,2,3],[4,5,6],[7,8,9]]), columns=['a','b','c'])\n",
    "df.head()"
   ]
  },
  {
   "cell_type": "code",
   "execution_count": 100,
   "id": "f75503ec",
   "metadata": {},
   "outputs": [
    {
     "data": {
      "text/html": [
       "<div>\n",
       "<style scoped>\n",
       "    .dataframe tbody tr th:only-of-type {\n",
       "        vertical-align: middle;\n",
       "    }\n",
       "\n",
       "    .dataframe tbody tr th {\n",
       "        vertical-align: top;\n",
       "    }\n",
       "\n",
       "    .dataframe thead th {\n",
       "        text-align: right;\n",
       "    }\n",
       "</style>\n",
       "<table border=\"1\" class=\"dataframe\">\n",
       "  <thead>\n",
       "    <tr style=\"text-align: right;\">\n",
       "      <th></th>\n",
       "      <th>a</th>\n",
       "      <th>b</th>\n",
       "      <th>c</th>\n",
       "    </tr>\n",
       "  </thead>\n",
       "  <tbody>\n",
       "    <tr>\n",
       "      <th>0</th>\n",
       "      <td>0.000000</td>\n",
       "      <td>0.693147</td>\n",
       "      <td>1.098612</td>\n",
       "    </tr>\n",
       "    <tr>\n",
       "      <th>1</th>\n",
       "      <td>1.386294</td>\n",
       "      <td>1.609438</td>\n",
       "      <td>1.791759</td>\n",
       "    </tr>\n",
       "    <tr>\n",
       "      <th>2</th>\n",
       "      <td>1.945910</td>\n",
       "      <td>2.079442</td>\n",
       "      <td>2.197225</td>\n",
       "    </tr>\n",
       "  </tbody>\n",
       "</table>\n",
       "</div>"
      ],
      "text/plain": [
       "          a         b         c\n",
       "0  0.000000  0.693147  1.098612\n",
       "1  1.386294  1.609438  1.791759\n",
       "2  1.945910  2.079442  2.197225"
      ]
     },
     "execution_count": 100,
     "metadata": {},
     "output_type": "execute_result"
    }
   ],
   "source": [
    "#applying small transformation\n",
    "df.transform(func=lambda x :np.log(x))"
   ]
  },
  {
   "cell_type": "code",
   "execution_count": 78,
   "id": "b8b6b7be",
   "metadata": {},
   "outputs": [
    {
     "data": {
      "text/html": [
       "<div>\n",
       "<style scoped>\n",
       "    .dataframe tbody tr th:only-of-type {\n",
       "        vertical-align: middle;\n",
       "    }\n",
       "\n",
       "    .dataframe tbody tr th {\n",
       "        vertical-align: top;\n",
       "    }\n",
       "\n",
       "    .dataframe thead th {\n",
       "        text-align: right;\n",
       "    }\n",
       "</style>\n",
       "<table border=\"1\" class=\"dataframe\">\n",
       "  <thead>\n",
       "    <tr style=\"text-align: right;\">\n",
       "      <th></th>\n",
       "      <th>a</th>\n",
       "      <th>b</th>\n",
       "      <th>c</th>\n",
       "    </tr>\n",
       "  </thead>\n",
       "  <tbody>\n",
       "    <tr>\n",
       "      <th>0</th>\n",
       "      <td>1</td>\n",
       "      <td>2</td>\n",
       "      <td>3</td>\n",
       "    </tr>\n",
       "    <tr>\n",
       "      <th>1</th>\n",
       "      <td>4</td>\n",
       "      <td>5</td>\n",
       "      <td>6</td>\n",
       "    </tr>\n",
       "    <tr>\n",
       "      <th>2</th>\n",
       "      <td>7</td>\n",
       "      <td>8</td>\n",
       "      <td>9</td>\n",
       "    </tr>\n",
       "  </tbody>\n",
       "</table>\n",
       "</div>"
      ],
      "text/plain": [
       "   a  b  c\n",
       "0  1  2  3\n",
       "1  4  5  6\n",
       "2  7  8  9"
      ]
     },
     "execution_count": 78,
     "metadata": {},
     "output_type": "execute_result"
    }
   ],
   "source": [
    "#checking the actual data\n",
    "df.head()"
   ]
  },
  {
   "cell_type": "code",
   "execution_count": 79,
   "id": "a5cf391c",
   "metadata": {},
   "outputs": [
    {
     "data": {
      "text/html": [
       "<div>\n",
       "<style scoped>\n",
       "    .dataframe tbody tr th:only-of-type {\n",
       "        vertical-align: middle;\n",
       "    }\n",
       "\n",
       "    .dataframe tbody tr th {\n",
       "        vertical-align: top;\n",
       "    }\n",
       "\n",
       "    .dataframe thead th {\n",
       "        text-align: right;\n",
       "    }\n",
       "</style>\n",
       "<table border=\"1\" class=\"dataframe\">\n",
       "  <thead>\n",
       "    <tr style=\"text-align: right;\">\n",
       "      <th></th>\n",
       "      <th>a</th>\n",
       "      <th>b</th>\n",
       "      <th>c</th>\n",
       "    </tr>\n",
       "  </thead>\n",
       "  <tbody>\n",
       "    <tr>\n",
       "      <th>0</th>\n",
       "      <td>10</td>\n",
       "      <td>20</td>\n",
       "      <td>30</td>\n",
       "    </tr>\n",
       "    <tr>\n",
       "      <th>1</th>\n",
       "      <td>40</td>\n",
       "      <td>50</td>\n",
       "      <td>60</td>\n",
       "    </tr>\n",
       "    <tr>\n",
       "      <th>2</th>\n",
       "      <td>70</td>\n",
       "      <td>80</td>\n",
       "      <td>90</td>\n",
       "    </tr>\n",
       "  </tbody>\n",
       "</table>\n",
       "</div>"
      ],
      "text/plain": [
       "    a   b   c\n",
       "0  10  20  30\n",
       "1  40  50  60\n",
       "2  70  80  90"
      ]
     },
     "execution_count": 79,
     "metadata": {},
     "output_type": "execute_result"
    }
   ],
   "source": [
    "#applying small transformation\n",
    "df.transform(func=lambda x :10*x)"
   ]
  },
  {
   "cell_type": "code",
   "execution_count": 80,
   "id": "208cad9c",
   "metadata": {},
   "outputs": [
    {
     "data": {
      "text/html": [
       "<div>\n",
       "<style scoped>\n",
       "    .dataframe tbody tr th:only-of-type {\n",
       "        vertical-align: middle;\n",
       "    }\n",
       "\n",
       "    .dataframe tbody tr th {\n",
       "        vertical-align: top;\n",
       "    }\n",
       "\n",
       "    .dataframe thead th {\n",
       "        text-align: right;\n",
       "    }\n",
       "</style>\n",
       "<table border=\"1\" class=\"dataframe\">\n",
       "  <thead>\n",
       "    <tr style=\"text-align: right;\">\n",
       "      <th></th>\n",
       "      <th>a</th>\n",
       "      <th>b</th>\n",
       "      <th>c</th>\n",
       "    </tr>\n",
       "  </thead>\n",
       "  <tbody>\n",
       "    <tr>\n",
       "      <th>0</th>\n",
       "      <td>2.718282</td>\n",
       "      <td>7.389056</td>\n",
       "      <td>20.085537</td>\n",
       "    </tr>\n",
       "    <tr>\n",
       "      <th>1</th>\n",
       "      <td>54.598150</td>\n",
       "      <td>148.413159</td>\n",
       "      <td>403.428793</td>\n",
       "    </tr>\n",
       "    <tr>\n",
       "      <th>2</th>\n",
       "      <td>1096.633158</td>\n",
       "      <td>2980.957987</td>\n",
       "      <td>8103.083928</td>\n",
       "    </tr>\n",
       "  </tbody>\n",
       "</table>\n",
       "</div>"
      ],
      "text/plain": [
       "             a            b            c\n",
       "0     2.718282     7.389056    20.085537\n",
       "1    54.598150   148.413159   403.428793\n",
       "2  1096.633158  2980.957987  8103.083928"
      ]
     },
     "execution_count": 80,
     "metadata": {},
     "output_type": "execute_result"
    }
   ],
   "source": [
    "#applying small transformation\n",
    "df.transform(func=lambda x :np.exp(x))"
   ]
  },
  {
   "cell_type": "code",
   "execution_count": 81,
   "id": "36a45657",
   "metadata": {},
   "outputs": [
    {
     "data": {
      "text/plain": [
       "2.718281828459045"
      ]
     },
     "execution_count": 81,
     "metadata": {},
     "output_type": "execute_result"
    }
   ],
   "source": [
    "np.exp(1)"
   ]
  },
  {
   "cell_type": "code",
   "execution_count": 101,
   "id": "cd95f371",
   "metadata": {},
   "outputs": [
    {
     "data": {
      "text/html": [
       "<div>\n",
       "<style scoped>\n",
       "    .dataframe tbody tr th:only-of-type {\n",
       "        vertical-align: middle;\n",
       "    }\n",
       "\n",
       "    .dataframe tbody tr th {\n",
       "        vertical-align: top;\n",
       "    }\n",
       "\n",
       "    .dataframe thead th {\n",
       "        text-align: right;\n",
       "    }\n",
       "</style>\n",
       "<table border=\"1\" class=\"dataframe\">\n",
       "  <thead>\n",
       "    <tr style=\"text-align: right;\">\n",
       "      <th></th>\n",
       "      <th>a</th>\n",
       "      <th>b</th>\n",
       "      <th>c</th>\n",
       "    </tr>\n",
       "  </thead>\n",
       "  <tbody>\n",
       "    <tr>\n",
       "      <th>0</th>\n",
       "      <td>1.000000</td>\n",
       "      <td>1.414214</td>\n",
       "      <td>1.732051</td>\n",
       "    </tr>\n",
       "    <tr>\n",
       "      <th>1</th>\n",
       "      <td>2.000000</td>\n",
       "      <td>2.236068</td>\n",
       "      <td>2.449490</td>\n",
       "    </tr>\n",
       "    <tr>\n",
       "      <th>2</th>\n",
       "      <td>2.645751</td>\n",
       "      <td>2.828427</td>\n",
       "      <td>3.000000</td>\n",
       "    </tr>\n",
       "  </tbody>\n",
       "</table>\n",
       "</div>"
      ],
      "text/plain": [
       "          a         b         c\n",
       "0  1.000000  1.414214  1.732051\n",
       "1  2.000000  2.236068  2.449490\n",
       "2  2.645751  2.828427  3.000000"
      ]
     },
     "execution_count": 101,
     "metadata": {},
     "output_type": "execute_result"
    }
   ],
   "source": [
    "#applying small transformation\n",
    "df.transform(func=lambda x :np.sqrt(x))"
   ]
  },
  {
   "cell_type": "code",
   "execution_count": null,
   "id": "a6abbdb1",
   "metadata": {},
   "outputs": [],
   "source": []
  }
 ],
 "metadata": {
  "kernelspec": {
   "display_name": "Python 3 (ipykernel)",
   "language": "python",
   "name": "python3"
  },
  "language_info": {
   "codemirror_mode": {
    "name": "ipython",
    "version": 3
   },
   "file_extension": ".py",
   "mimetype": "text/x-python",
   "name": "python",
   "nbconvert_exporter": "python",
   "pygments_lexer": "ipython3",
   "version": "3.9.7"
  }
 },
 "nbformat": 4,
 "nbformat_minor": 5
}
